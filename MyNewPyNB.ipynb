{
  "metadata": {
    "kernelspec": {
      "name": "python",
      "display_name": "Python (Pyodide)",
      "language": "python"
    },
    "language_info": {
      "codemirror_mode": {
        "name": "python",
        "version": 3
      },
      "file_extension": ".py",
      "mimetype": "text/x-python",
      "name": "python",
      "nbconvert_exporter": "python",
      "pygments_lexer": "ipython3",
      "version": "3.8"
    }
  },
  "nbformat_minor": 5,
  "nbformat": 4,
  "cells": [
    {
      "id": "1df0e4de-5017-4ced-8cc7-b20d21287ebd",
      "cell_type": "markdown",
      "source": "# Data Science Tools and Ecosystem",
      "metadata": {}
    },
    {
      "id": "ec948fbb-0a93-4cb2-8d07-99ec217b5a7c",
      "cell_type": "markdown",
      "source": "In this notebook, Data Science Tools and Ecosystems are summarized.",
      "metadata": {}
    },
    {
      "id": "84a17353-2501-47f3-b635-197bb1da274c",
      "cell_type": "markdown",
      "source": "**Objectives:**\n* List Languages often used in Data Science\n* List libraries commonly used by Data Scientists\n* Demonstrate arithmetic expressions in Python, like\n    * Multiplying & adding integers\n    * Converting numbers into hours",
      "metadata": {}
    },
    {
      "id": "d5479c49-1b15-4261-a1ac-e55303f5e20a",
      "cell_type": "markdown",
      "source": "Some of the commonly used languages used by Data Scientists include:\n\n1. R\n2. python\n3. SQL\n4. Scala",
      "metadata": {}
    },
    {
      "id": "194988e5-d699-4de7-8065-f49e6927c878",
      "cell_type": "markdown",
      "source": "Some of the commonly used libraries used by Data Scientists include:\n\n1. Matplotlib\n2. Pandas\n3. NumPy\n4. Seaborn\n5. Plotly",
      "metadata": {}
    },
    {
      "id": "7415fc4c-5c85-42ea-980e-33ab09f6b0d1",
      "cell_type": "markdown",
      "source": "| Data Science Tools |\n|:-------|\n| Jupyter Notebook |\n| JupyterLite |\n| RStudio |\n| GitHub|",
      "metadata": {}
    },
    {
      "id": "e60a434a-7cbc-4306-918e-dd3e8f8dca66",
      "cell_type": "markdown",
      "source": "### Below are a few examples of evaluating arithmetic expressions in Python",
      "metadata": {}
    },
    {
      "id": "b7f8abd2-c9d2-47d2-bb56-e78372cd295c",
      "cell_type": "code",
      "source": "# This is a simple arithmetic expression to multiply then add integers\n\n(3*4)+5",
      "metadata": {
        "trusted": true
      },
      "outputs": [
        {
          "execution_count": 1,
          "output_type": "execute_result",
          "data": {
            "text/plain": "17"
          },
          "metadata": {}
        }
      ],
      "execution_count": 1
    },
    {
      "id": "6bed97de-aa67-43c0-ad23-bd9427800715",
      "cell_type": "code",
      "source": "# This will convert 200 minutes to hours by dividing by 60\n\n200/60",
      "metadata": {
        "trusted": true
      },
      "outputs": [
        {
          "execution_count": 2,
          "output_type": "execute_result",
          "data": {
            "text/plain": "3.3333333333333335"
          },
          "metadata": {}
        }
      ],
      "execution_count": 2
    },
    {
      "id": "23affa17-5fe0-412a-bfde-929c26dcef96",
      "cell_type": "markdown",
      "source": "## Author\nBrian Hoade",
      "metadata": {}
    }
  ]
}